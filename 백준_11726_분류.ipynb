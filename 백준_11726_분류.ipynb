{
  "nbformat": 4,
  "nbformat_minor": 0,
  "metadata": {
    "colab": {
      "name": "백준 11726 분류.ipynb",
      "provenance": [],
      "authorship_tag": "ABX9TyOzDsS5q/0WYgZkfVG3iUVE",
      "include_colab_link": true
    },
    "kernelspec": {
      "name": "python3",
      "display_name": "Python 3"
    }
  },
  "cells": [
    {
      "cell_type": "markdown",
      "metadata": {
        "id": "view-in-github",
        "colab_type": "text"
      },
      "source": [
        "<a href=\"https://colab.research.google.com/github/cocoball200/algorithm_study/blob/main/%EB%B0%B1%EC%A4%80_11726_%EB%B6%84%EB%A5%98.ipynb\" target=\"_parent\"><img src=\"https://colab.research.google.com/assets/colab-badge.svg\" alt=\"Open In Colab\"/></a>"
      ]
    },
    {
      "cell_type": "markdown",
      "metadata": {
        "id": "VbIbcrBcKERR"
      },
      "source": [
        "백준 11726번 \n",
        "문제\n",
        "2×n 크기의 직사각형을 1×2, 2×1 타일로 채우는 방법의 수를 구하는 프로그램을 작성하시오.\n",
        "\n",
        "아래 그림은 2×5 크기의 직사각형을 채운 한 가지 방법의 예이다.\n",
        "\n",
        "입력\n",
        "첫째 줄에 n이 주어진다. (1 ≤ n ≤ 1,000)\n",
        "\n",
        "출력\n",
        "첫째 줄에 2×n 크기의 직사각형을 채우는 방법의 수를 10,007로 나눈 나머지를 출력한다.\n",
        "\n",
        "예제 입력 1 \n",
        "2\n",
        "예제 출력 1 \n",
        "2\n",
        "예제 입력 2 \n",
        "9\n",
        "예제 출력 2 \n",
        "55"
      ]
    },
    {
      "cell_type": "markdown",
      "metadata": {
        "id": "Bq0ZXc6SKXqR"
      },
      "source": [
        "2x1 = 1개 방법\n",
        "2x2 = 2\n",
        "2x3 =3\n",
        "2x3 = 5\n",
        "2x5 = 8\n",
        "2x6 =13\n",
        "2x7 =21\n",
        "2x8 = 34\n",
        "2x9 =55 \n",
        "\n",
        "파보나치 수열 \n",
        "\n",
        "n-1, n-2 \n",
        "\n",
        "\n"
      ]
    },
    {
      "cell_type": "code",
      "metadata": {
        "colab": {
          "base_uri": "https://localhost:8080/"
        },
        "id": "Dn0gh02zLnTi",
        "outputId": "e44a13cf-72a0-4c96-ee90-1cfe78936e3a"
      },
      "source": [
        "N = int(input())"
      ],
      "execution_count": 19,
      "outputs": [
        {
          "output_type": "stream",
          "text": [
            "5\n"
          ],
          "name": "stdout"
        }
      ]
    },
    {
      "cell_type": "code",
      "metadata": {
        "id": "BNN8mcbiKDle"
      },
      "source": [
        "dp = [0,1,2]"
      ],
      "execution_count": 20,
      "outputs": []
    },
    {
      "cell_type": "code",
      "metadata": {
        "id": "O0FEl-2bLrQQ"
      },
      "source": [
        "for i in range(3,N+1):\n",
        "  dp.append(dp[i-1] +dp[i-2])"
      ],
      "execution_count": 21,
      "outputs": []
    },
    {
      "cell_type": "code",
      "metadata": {
        "colab": {
          "base_uri": "https://localhost:8080/"
        },
        "id": "zerrg4gVMblX",
        "outputId": "29423c5c-057f-442e-81da-05770867e45f"
      },
      "source": [
        "print(dp[-1])"
      ],
      "execution_count": 22,
      "outputs": [
        {
          "output_type": "stream",
          "text": [
            "8\n"
          ],
          "name": "stdout"
        }
      ]
    },
    {
      "cell_type": "code",
      "metadata": {
        "id": "sMmnuV7FNPfB"
      },
      "source": [
        ""
      ],
      "execution_count": null,
      "outputs": []
    }
  ]
}