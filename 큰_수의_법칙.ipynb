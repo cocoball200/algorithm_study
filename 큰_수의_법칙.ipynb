{
  "nbformat": 4,
  "nbformat_minor": 0,
  "metadata": {
    "colab": {
      "name": "큰 수의 법칙.ipynb",
      "provenance": [],
      "authorship_tag": "ABX9TyPwfsP10vrxUwtCwXR8rwQP",
      "include_colab_link": true
    },
    "kernelspec": {
      "name": "python3",
      "display_name": "Python 3"
    }
  },
  "cells": [
    {
      "cell_type": "markdown",
      "metadata": {
        "id": "view-in-github",
        "colab_type": "text"
      },
      "source": [
        "<a href=\"https://colab.research.google.com/github/cocoball200/algorithm_study/blob/main/%ED%81%B0_%EC%88%98%EC%9D%98_%EB%B2%95%EC%B9%99.ipynb\" target=\"_parent\"><img src=\"https://colab.research.google.com/assets/colab-badge.svg\" alt=\"Open In Colab\"/></a>"
      ]
    },
    {
      "cell_type": "markdown",
      "metadata": {
        "id": "-L24Gf7f9ed5"
      },
      "source": [
        "큰 수의 법칙 \n",
        "예) 2 4 5 4 6으로 이루어진 배열이 있을 때 M =8, K=3 이라고 할때, 특정한 인덱스의 수가 연속해서 세번까지 더해질 수 있고, 총 8번 더해야 한다. \n",
        "6+6+6+5+6+6+6+5 =46 \n",
        "N= 배열의 크기 M 더해지는 횟수 K 연속 더해질 수 있는 횟수 "
      ]
    },
    {
      "cell_type": "code",
      "metadata": {
        "colab": {
          "base_uri": "https://localhost:8080/"
        },
        "id": "tMRE_3je9d4x",
        "outputId": "0e7b9a79-8118-4d92-a1f2-004b52d5eb14"
      },
      "source": [
        "n,m,k = map(int,input().split())\n",
        "data = list(map(int,input().split()))"
      ],
      "execution_count": 28,
      "outputs": [
        {
          "output_type": "stream",
          "text": [
            "5 8 3\n",
            "2 4 5 4 6\n"
          ],
          "name": "stdout"
        }
      ]
    },
    {
      "cell_type": "code",
      "metadata": {
        "colab": {
          "base_uri": "https://localhost:8080/"
        },
        "id": "ySxU0_Ep_BsV",
        "outputId": "b1a16627-57a0-45c8-e308-d7667615b67c"
      },
      "source": [
        "data.sort()\n",
        "print(data)"
      ],
      "execution_count": 29,
      "outputs": [
        {
          "output_type": "stream",
          "text": [
            "[2, 4, 4, 5, 6]\n"
          ],
          "name": "stdout"
        }
      ]
    },
    {
      "cell_type": "code",
      "metadata": {
        "id": "K5aHgkQi_GZw"
      },
      "source": [
        "max = data[n-1] #5"
      ],
      "execution_count": 30,
      "outputs": []
    },
    {
      "cell_type": "code",
      "metadata": {
        "id": "GFd1kF4R_GiD"
      },
      "source": [
        "secondMax = data[n-2] #6 "
      ],
      "execution_count": 31,
      "outputs": []
    },
    {
      "cell_type": "code",
      "metadata": {
        "id": "oUtor0r0Adf9"
      },
      "source": [
        "result = 0"
      ],
      "execution_count": 32,
      "outputs": []
    },
    {
      "cell_type": "code",
      "metadata": {
        "id": "Uc_Dnkub_GqU"
      },
      "source": [
        "while True:\n",
        "  for i in range(k):\n",
        "    if m == 0:\n",
        "      break\n",
        "    result += max \n",
        "    m -= 1 \n",
        "  if m == 0:\n",
        "    break\n",
        "  result += secondMax\n",
        "  m -= 1\n",
        "    "
      ],
      "execution_count": 33,
      "outputs": []
    },
    {
      "cell_type": "code",
      "metadata": {
        "id": "f2BfmAmHAaem",
        "colab": {
          "base_uri": "https://localhost:8080/"
        },
        "outputId": "afedc059-6f81-4128-d001-62cc5ff74c83"
      },
      "source": [
        "print(result)"
      ],
      "execution_count": 34,
      "outputs": [
        {
          "output_type": "stream",
          "text": [
            "46\n"
          ],
          "name": "stdout"
        }
      ]
    }
  ]
}