{
  "nbformat": 4,
  "nbformat_minor": 0,
  "metadata": {
    "colab": {
      "name": "큰 수의 법칙.ipynb",
      "provenance": [],
      "authorship_tag": "ABX9TyNAQnh/pZfWQ3buz55t9+t6",
      "include_colab_link": true
    },
    "kernelspec": {
      "name": "python3",
      "display_name": "Python 3"
    }
  },
  "cells": [
    {
      "cell_type": "markdown",
      "metadata": {
        "id": "view-in-github",
        "colab_type": "text"
      },
      "source": [
        "<a href=\"https://colab.research.google.com/github/cocoball200/algorithm_study/blob/main/%ED%81%B0_%EC%88%98%EC%9D%98_%EB%B2%95%EC%B9%99.ipynb\" target=\"_parent\"><img src=\"https://colab.research.google.com/assets/colab-badge.svg\" alt=\"Open In Colab\"/></a>"
      ]
    },
    {
      "cell_type": "markdown",
      "metadata": {
        "id": "-L24Gf7f9ed5"
      },
      "source": [
        "큰 수의 법칙 \n",
        "예) 2 4 5 4 6으로 이루어진 배열이 있을 때 M =8, K=3 이라고 할때, 특정한 인덱스의 수가 연속해서 세번까지 더해질 수 있고, 총 8번 더해야 한다. \n",
        "6+6+6+5+6+6+6+5 =46 \n",
        "N= 배열의 크기 M 더해지는 횟수 K 연속 더해질 수 있는 횟수 "
      ]
    },
    {
      "cell_type": "markdown",
      "metadata": {
        "id": "rKcQwquCMdDw"
      },
      "source": [
        ""
      ]
    },
    {
      "cell_type": "markdown",
      "metadata": {
        "id": "C_a-vkbqMd9u"
      },
      "source": [
        "# 단순 풀이 "
      ]
    },
    {
      "cell_type": "code",
      "metadata": {
        "colab": {
          "base_uri": "https://localhost:8080/"
        },
        "id": "tMRE_3je9d4x",
        "outputId": "0e7b9a79-8118-4d92-a1f2-004b52d5eb14"
      },
      "source": [
        "n,m,k = map(int,input().split())\n",
        "data = list(map(int,input().split()))"
      ],
      "execution_count": 28,
      "outputs": [
        {
          "output_type": "stream",
          "text": [
            "5 8 3\n",
            "2 4 5 4 6\n"
          ],
          "name": "stdout"
        }
      ]
    },
    {
      "cell_type": "code",
      "metadata": {
        "colab": {
          "base_uri": "https://localhost:8080/"
        },
        "id": "ySxU0_Ep_BsV",
        "outputId": "b1a16627-57a0-45c8-e308-d7667615b67c"
      },
      "source": [
        "data.sort()\n",
        "print(data)"
      ],
      "execution_count": 29,
      "outputs": [
        {
          "output_type": "stream",
          "text": [
            "[2, 4, 4, 5, 6]\n"
          ],
          "name": "stdout"
        }
      ]
    },
    {
      "cell_type": "code",
      "metadata": {
        "id": "K5aHgkQi_GZw"
      },
      "source": [
        "max = data[n-1] #5"
      ],
      "execution_count": 30,
      "outputs": []
    },
    {
      "cell_type": "code",
      "metadata": {
        "id": "GFd1kF4R_GiD"
      },
      "source": [
        "secondMax = data[n-2] #6 "
      ],
      "execution_count": 31,
      "outputs": []
    },
    {
      "cell_type": "code",
      "metadata": {
        "id": "oUtor0r0Adf9"
      },
      "source": [
        "result = 0"
      ],
      "execution_count": 32,
      "outputs": []
    },
    {
      "cell_type": "code",
      "metadata": {
        "id": "Uc_Dnkub_GqU"
      },
      "source": [
        "while True:\n",
        "  for i in range(k):\n",
        "    if m == 0:\n",
        "      break\n",
        "    result += max \n",
        "    m -= 1 \n",
        "  if m == 0:\n",
        "    break\n",
        "  result += secondMax\n",
        "  m -= 1\n",
        "    "
      ],
      "execution_count": 33,
      "outputs": []
    },
    {
      "cell_type": "code",
      "metadata": {
        "id": "f2BfmAmHAaem",
        "colab": {
          "base_uri": "https://localhost:8080/"
        },
        "outputId": "afedc059-6f81-4128-d001-62cc5ff74c83"
      },
      "source": [
        "print(result)"
      ],
      "execution_count": 34,
      "outputs": [
        {
          "output_type": "stream",
          "text": [
            "46\n"
          ],
          "name": "stdout"
        }
      ]
    },
    {
      "cell_type": "markdown",
      "metadata": {
        "id": "G_sdoNU9MhgF"
      },
      "source": [
        "# 반복 되는 수열로 풀기 "
      ]
    },
    {
      "cell_type": "markdown",
      "metadata": {
        "id": "OQg4OfQLMumC"
      },
      "source": [
        "입력 값이 N= 5 , M=8, K =2이라고 가정하고, 배열은 [2,4,5,4,6]이다. \n",
        "66\n",
        "5\n",
        "66\n",
        "5\n",
        "66 \n",
        "으로 쪼갤 수 있다. 665 665 66 으로 합쳐기고 식으로 나타내면 =  K+1 </br>\n",
        "\n",
        "M/K+1을 하게 된다면, 몫은 위의 수열이 반복되는 횟수이다. 2번 반복되고, 나머지는 2가 남는다. 이 몫에 k를 곱해주면, 총 가장 큰 수가 더해지는 횟수이다. \n",
        "나머지는 추가로 더 더해지는 횟수.여기서도 최대 숫자가 더해짐. 그러므로, 즉 가장 큰 수가 더해지는 것은 6이 된다. 식으로 만들면\n",
        "(M/(K+1))*K +(M%(K+1)) => 가장 큰 수가 더해지는 횟수 "
      ]
    },
    {
      "cell_type": "code",
      "metadata": {
        "colab": {
          "base_uri": "https://localhost:8080/"
        },
        "id": "gRSm3zvgMqGb",
        "outputId": "cf2aa3e4-daa6-43a9-d781-1078ab316488"
      },
      "source": [
        "n,m,k = map(int,input().split())\n",
        "data = list(map(int,input().split()))"
      ],
      "execution_count": 35,
      "outputs": [
        {
          "output_type": "stream",
          "text": [
            "5 8 2\n",
            "2 4 5 4 6\n"
          ],
          "name": "stdout"
        }
      ]
    },
    {
      "cell_type": "code",
      "metadata": {
        "id": "Qeus9akNOdUO"
      },
      "source": [
        "data.sort()"
      ],
      "execution_count": 36,
      "outputs": []
    },
    {
      "cell_type": "code",
      "metadata": {
        "id": "SE7KEfN3Of3E"
      },
      "source": [
        "max = data[n-1]\n",
        "secondMax = data[n-2]"
      ],
      "execution_count": 37,
      "outputs": []
    },
    {
      "cell_type": "code",
      "metadata": {
        "id": "4LqZRaPUOmy2"
      },
      "source": [
        "count = int(m/(k+1))*k\n",
        "count += m %(k+1)"
      ],
      "execution_count": 38,
      "outputs": []
    },
    {
      "cell_type": "code",
      "metadata": {
        "id": "SwRqFdkJO3UM"
      },
      "source": [
        "result = 0\n",
        "result += (count)*max\n",
        "result += (m-count)*secondMax"
      ],
      "execution_count": 39,
      "outputs": []
    },
    {
      "cell_type": "code",
      "metadata": {
        "colab": {
          "base_uri": "https://localhost:8080/"
        },
        "id": "GdOOy1ASPKev",
        "outputId": "0307cf94-9840-47c6-d20e-8f784071970d"
      },
      "source": [
        "print(result)"
      ],
      "execution_count": 40,
      "outputs": [
        {
          "output_type": "stream",
          "text": [
            "46\n"
          ],
          "name": "stdout"
        }
      ]
    }
  ]
}