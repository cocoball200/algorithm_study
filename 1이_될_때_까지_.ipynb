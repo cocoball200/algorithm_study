{
  "nbformat": 4,
  "nbformat_minor": 0,
  "metadata": {
    "colab": {
      "name": "1이 될 때 까지 .ipynb",
      "provenance": [],
      "authorship_tag": "ABX9TyPiSAC7F/R3B9t7+ru3j2a8",
      "include_colab_link": true
    },
    "kernelspec": {
      "name": "python3",
      "display_name": "Python 3"
    }
  },
  "cells": [
    {
      "cell_type": "markdown",
      "metadata": {
        "id": "view-in-github",
        "colab_type": "text"
      },
      "source": [
        "<a href=\"https://colab.research.google.com/github/cocoball200/algorithm_study/blob/main/1%EC%9D%B4_%EB%90%A0_%EB%95%8C_%EA%B9%8C%EC%A7%80_.ipynb\" target=\"_parent\"><img src=\"https://colab.research.google.com/assets/colab-badge.svg\" alt=\"Open In Colab\"/></a>"
      ]
    },
    {
      "cell_type": "markdown",
      "metadata": {
        "id": "bnCCzpexbPYs"
      },
      "source": [
        "# 1이 될 때 까지 \n",
        "어떠한 수 N이 1이 될 때까지 다음의 두 과정 중 하나를 반복적으로 선택하여 수행하려고 한다. 두 번째 연산은 N이 K로 나누어 떨어질 때만 수행한다.\n",
        "1. N에서 1을 뺀다\n",
        "2. N에서 K로 나눈다. \n",
        "\n",
        "예를 들어 N이 17, K가 4라고 가정하다. 이때 1번의 과정을 한 번 수행하면 N은 16이 된다. 이후에 2번의 과정을 두번 수행하면 N은 1이 된다. 전체 과정을 실행한 횟수는 3이 된다. 이는 N을 1로 만드는 최소 횟수이다. \n",
        "\n",
        "입력예시 \n",
        "25 5 \n",
        "출력 예시 \n",
        "2"
      ]
    },
    {
      "cell_type": "code",
      "metadata": {
        "colab": {
          "base_uri": "https://localhost:8080/"
        },
        "id": "pygaFjT9D-u7",
        "outputId": "d7557dd6-5467-4701-c681-eae8af7e55e4"
      },
      "source": [
        "n,k = map(int,input().split())\n",
        "result = 0"
      ],
      "execution_count": 3,
      "outputs": [
        {
          "output_type": "stream",
          "text": [
            "25 5\n"
          ],
          "name": "stdout"
        }
      ]
    },
    {
      "cell_type": "code",
      "metadata": {
        "id": "PBjgbrQzdjFM"
      },
      "source": [
        "while n>= k:\n",
        "  while n%k != 0:\n",
        "    n -= 1 \n",
        "    result += 1\n",
        "  n //= k\n",
        "  result += 1 \n",
        "\n",
        "while n> 1:\n",
        "  n-=1\n",
        "  result +=1\n"
      ],
      "execution_count": 4,
      "outputs": []
    },
    {
      "cell_type": "code",
      "metadata": {
        "colab": {
          "base_uri": "https://localhost:8080/"
        },
        "id": "C7QRCvcihj8R",
        "outputId": "4ddcb94c-4a9f-48cf-d80c-31e7a3d974a9"
      },
      "source": [
        "print(result)"
      ],
      "execution_count": 6,
      "outputs": [
        {
          "output_type": "stream",
          "text": [
            "2\n"
          ],
          "name": "stdout"
        }
      ]
    },
    {
      "cell_type": "markdown",
      "metadata": {
        "id": "sadJpz8Zi-D8"
      },
      "source": [
        "# 효율적 방법 "
      ]
    },
    {
      "cell_type": "code",
      "metadata": {
        "colab": {
          "base_uri": "https://localhost:8080/"
        },
        "id": "PAvXcpPfi7ds",
        "outputId": "cc23e3d9-d533-4941-d75e-58ba0834dc77"
      },
      "source": [
        "n,k = map(int,input().split())\n",
        "result = 0"
      ],
      "execution_count": 18,
      "outputs": [
        {
          "output_type": "stream",
          "text": [
            "25 3\n"
          ],
          "name": "stdout"
        }
      ]
    },
    {
      "cell_type": "code",
      "metadata": {
        "colab": {
          "base_uri": "https://localhost:8080/"
        },
        "id": "7tcONkiImZEF",
        "outputId": "b4254e14-538e-4d14-cfed-78e299187d1e"
      },
      "source": [
        "while True:\n",
        "  target = (n//k)*k\n",
        "  print(\"1.target = \", target)\n",
        "  result += (n-target)\n",
        "  print(\"1.result = \", result)\n",
        "  n= target\n",
        "  print(\"1.n = \", n)\n",
        "\n",
        "  if n<k:\n",
        "    print(\"end\")\n",
        "    break\n",
        "  result += 1\n",
        "  print(\"2.result = \", result)\n",
        "  n //= k\n",
        "  print(\"2.n = \", n)\n",
        "\n",
        "print(\"3. n = \", n)\n",
        "result += (n-1)\n",
        "print(result)"
      ],
      "execution_count": 17,
      "outputs": [
        {
          "output_type": "stream",
          "text": [
            "1.target =  24\n",
            "1.result =  1\n",
            "1.n =  24\n",
            "2.result =  2\n",
            "2. n =  8\n",
            "1.target =  6\n",
            "1.result =  4\n",
            "1.n =  6\n",
            "2.result =  5\n",
            "2. n =  2\n",
            "1.target =  0\n",
            "1.result =  7\n",
            "1.n =  0\n",
            "end\n",
            "3. n =  0\n",
            "6\n"
          ],
          "name": "stdout"
        }
      ]
    }
  ]
}