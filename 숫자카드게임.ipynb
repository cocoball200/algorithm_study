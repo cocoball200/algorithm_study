{
  "nbformat": 4,
  "nbformat_minor": 0,
  "metadata": {
    "colab": {
      "name": "숫자카드게임.ipynb",
      "provenance": [],
      "authorship_tag": "ABX9TyNXGzix/HU3w1sh+jMtCMMB",
      "include_colab_link": true
    },
    "kernelspec": {
      "name": "python3",
      "display_name": "Python 3"
    }
  },
  "cells": [
    {
      "cell_type": "markdown",
      "metadata": {
        "id": "view-in-github",
        "colab_type": "text"
      },
      "source": [
        "<a href=\"https://colab.research.google.com/github/cocoball200/algorithm_study/blob/main/%EC%88%AB%EC%9E%90%EC%B9%B4%EB%93%9C%EA%B2%8C%EC%9E%84.ipynb\" target=\"_parent\"><img src=\"https://colab.research.google.com/assets/colab-badge.svg\" alt=\"Open In Colab\"/></a>"
      ]
    },
    {
      "cell_type": "markdown",
      "metadata": {
        "id": "9n5-rmWiVuB1"
      },
      "source": [
        "# 숫자 카드 게임 \n",
        "\n",
        "숫자 카드 게임은여러 개의 숫자 카드 중에서 가장 높은 숫자가 쓰인 카드 한장을 뽑는 게임이다. \n",
        "</br>\n",
        "1. 숫자가 쓰인 카드들이 N x M 형태로 놓여있고, 이때 N은 행의 개수, M은 세로의 개수를 의미한다.\n",
        "2. 먼저 뽑고자 하는 카드가 포함되어 있는 행을 선택한다. \n",
        "3. 그 다음 선택된 행에 포함된 카드들 중 가장 숫자가 낮은 카드를 뽑아야 한다. \n",
        "4. 따라서 처음에 카드를 골라낼 행을 선택할 때, 이후에 해당 행에서 가장 숫자가 낮은 카드를 뽑을 것을 고려하여 최종적으로 가장 높은 숫자의 카드를 뽑을 수 있도록 전략을 세워라.. \n",
        "\n",
        "입력예시\n",
        "3 3<br>\n",
        "3 1 2 <br>\n",
        "4 1 4 <br>\n",
        "2 2 2 <br> \n",
        "\n",
        "* min함수와 for문을 돌리면서 각각 하나의 행 리스트를 input으로 받는 것을 생각해야함. \n",
        "\n"
      ]
    },
    {
      "cell_type": "code",
      "metadata": {
        "colab": {
          "base_uri": "https://localhost:8080/"
        },
        "id": "oKBBFUIRQABH",
        "outputId": "1d46c926-3614-4fe4-eb59-9eed85079a15"
      },
      "source": [
        "n,m = map(int,input().split())"
      ],
      "execution_count": 1,
      "outputs": [
        {
          "output_type": "stream",
          "text": [
            "3 3\n"
          ],
          "name": "stdout"
        }
      ]
    },
    {
      "cell_type": "code",
      "metadata": {
        "id": "1R1LY5qtWvUp"
      },
      "source": [
        "result_array = []\n",
        "result = 0 "
      ],
      "execution_count": 13,
      "outputs": []
    },
    {
      "cell_type": "code",
      "metadata": {
        "colab": {
          "base_uri": "https://localhost:8080/"
        },
        "id": "k8PYZ5z5WzeY",
        "outputId": "38a4927b-42c5-405a-d26f-4b2e8e982740"
      },
      "source": [
        "for i in range(n):\n",
        "  data = list(map(int,input().split()))\n",
        "  result_array.append(min(data))\n",
        "print(max(result_array))"
      ],
      "execution_count": 16,
      "outputs": [
        {
          "output_type": "stream",
          "text": [
            "1 3 5\n",
            "2 3 5\n",
            "1 3 2\n",
            "2\n"
          ],
          "name": "stdout"
        }
      ]
    },
    {
      "cell_type": "markdown",
      "metadata": {
        "id": "Ju95BWK2ZLf1"
      },
      "source": [
        "책에서는 이런식으로 써져있음 , for문을 돌면서 max를 비교하는것. "
      ]
    },
    {
      "cell_type": "code",
      "metadata": {
        "colab": {
          "base_uri": "https://localhost:8080/"
        },
        "id": "SZHnGhn9XPlH",
        "outputId": "ed73458c-0115-4e7e-8be5-adb880c3609a"
      },
      "source": [
        "for i in range(n):\n",
        "  data = list(map(int,input().split()))\n",
        "  min_value = min(data)\n",
        "  result = max(result, min_value)\n",
        "\n",
        "print(result)"
      ],
      "execution_count": 17,
      "outputs": [
        {
          "output_type": "stream",
          "text": [
            "3 1 2\n",
            "4 1 4\n",
            "2 2 2\n",
            "2\n"
          ],
          "name": "stdout"
        }
      ]
    }
  ]
}