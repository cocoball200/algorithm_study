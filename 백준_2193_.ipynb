{
  "nbformat": 4,
  "nbformat_minor": 0,
  "metadata": {
    "colab": {
      "name": "백준 2193 .ipynb",
      "provenance": [],
      "authorship_tag": "ABX9TyNmJ5OqgApkQWM/vFY9O19h",
      "include_colab_link": true
    },
    "kernelspec": {
      "name": "python3",
      "display_name": "Python 3"
    }
  },
  "cells": [
    {
      "cell_type": "markdown",
      "metadata": {
        "id": "view-in-github",
        "colab_type": "text"
      },
      "source": [
        "<a href=\"https://colab.research.google.com/github/cocoball200/algorithm_study/blob/main/%EB%B0%B1%EC%A4%80_2193_.ipynb\" target=\"_parent\"><img src=\"https://colab.research.google.com/assets/colab-badge.svg\" alt=\"Open In Colab\"/></a>"
      ]
    },
    {
      "cell_type": "markdown",
      "metadata": {
        "id": "9XvZLEQB5C4r"
      },
      "source": [
        "이친수 백준 2193"
      ]
    },
    {
      "cell_type": "markdown",
      "metadata": {
        "id": "ohFTO82J5JNb"
      },
      "source": [
        "문제\n",
        "0과 1로만 이루어진 수를 이진수라 한다. 이러한 이진수 중 특별한 성질을 갖는 것들이 있는데, 이들을 이친수(pinary number)라 한다. 이친수는 다음의 성질을 만족한다.\n",
        "\n",
        "이친수는 0으로 시작하지 않는다.\n",
        "이친수에서는 1이 두 번 연속으로 나타나지 않는다. 즉, 11을 부분 문자열로 갖지 않는다.\n",
        "예를 들면 1, 10, 100, 101, 1000, 1001 등이 이친수가 된다. 하지만 0010101이나 101101은 각각 1, 2번 규칙에 위배되므로 이친수가 아니다.\n",
        "\n",
        "N(1 ≤ N ≤ 90)이 주어졌을 때, N자리 이친수의 개수를 구하는 프로그램을 작성하시오.\n",
        "\n",
        "입력\n",
        "첫째 줄에 N이 주어진다.\n",
        "\n",
        "출력\n",
        "첫째 줄에 N자리 이친수의 개수를 출력한다.\n",
        "\n",
        "예제 입력 1 \n",
        "3\n",
        "예제 출력 1 \n",
        "2"
      ]
    },
    {
      "cell_type": "markdown",
      "metadata": {
        "id": "uQ9-2zK25pU-"
      },
      "source": [
        "#이친수의 특징\n",
        "N=1 : 1 (1가지)\n",
        "\n",
        "N=2 : 10 (1가지)\n",
        "\n",
        "N=3 : 101, 100 (2가지)\n",
        "\n",
        "N=4 : 1010, 1000, 1001, (3가지)\n",
        "\n",
        "N=5 : 10100, 10000, 10010, 10101, 10001 (5가지)\n",
        "\n",
        "N=6 : 101000, 100000, 100100, 101010, 100010, 101001, 100001, 100101 (8가지)\n",
        "\n",
        "출처 https://pro-jy.tistory.com/15\n",
        "\n",
        "N자리 이친수의 종류는 N-1자리 이친수 종류와 N-2자리 이친수 종류의 합으로 표현이 되고있습니다. 이제 이 이유에 대해 정확히 알아보겠습니다.\n",
        "\n",
        "N자리 이친수는 두가지로 이루어질 수 있습니다.\n",
        "\n",
        "1. N-1자리 이친수에 0을 추가한 경우\n",
        "예) 2자리 이친수에 0을 추가한 경우, 3자리의 이친수에 0을 추가하기  10 + 0  =>100 \n",
        "\n",
        "2. N-2자리 이친수에 01을 추가한 경우\n",
        "예) 2자리 이핀수에 01을 추가한 경우, 즉  1 + 01 => 101\n",
        "그래서 N=3 100, 101 \n",
        "\n",
        "결국 파보나치 수열과 비슷한 문제\n"
      ]
    },
    {
      "cell_type": "code",
      "metadata": {
        "colab": {
          "base_uri": "https://localhost:8080/"
        },
        "id": "tg914k-V5DZp",
        "outputId": "e4dabc41-bac2-4a1b-e543-c74d59e875bf"
      },
      "source": [
        "N = int(input())"
      ],
      "execution_count": 47,
      "outputs": [
        {
          "output_type": "stream",
          "text": [
            "3\n"
          ],
          "name": "stdout"
        }
      ]
    },
    {
      "cell_type": "code",
      "metadata": {
        "id": "ywVuShx38URG"
      },
      "source": [
        "dp = [0,1,1]"
      ],
      "execution_count": 48,
      "outputs": []
    },
    {
      "cell_type": "code",
      "metadata": {
        "colab": {
          "base_uri": "https://localhost:8080/"
        },
        "id": "C3Qgpwmm9Vx1",
        "outputId": "34f8e17f-b373-46a7-8d03-1db1a9f61c7e"
      },
      "source": [
        "for i in range(3, N+1):\n",
        "  print(i)\n",
        "  dp.append(dp[i-1]+dp[i-2])"
      ],
      "execution_count": 49,
      "outputs": [
        {
          "output_type": "stream",
          "text": [
            "3\n"
          ],
          "name": "stdout"
        }
      ]
    },
    {
      "cell_type": "code",
      "metadata": {
        "colab": {
          "base_uri": "https://localhost:8080/"
        },
        "id": "jGNE7LzO_L9e",
        "outputId": "2e48dd39-a39b-4f08-cdb0-b54126474dc3"
      },
      "source": [
        "print(dp[-1]) "
      ],
      "execution_count": 50,
      "outputs": [
        {
          "output_type": "stream",
          "text": [
            "2\n"
          ],
          "name": "stdout"
        }
      ]
    },
    {
      "cell_type": "markdown",
      "metadata": {
        "id": "1sSK55ftBmyg"
      },
      "source": [
        "n값인 0이 안나오지만 어쨌든 1 1 2 3 5 가 나온다. 그러므로 첫번째 값과 두번째 값은 1로 만들면 되기 때문에, if문은 N==1 ,N==2일때 1을 추가하는 코드를 쓰지 않아도 된다. "
      ]
    }
  ]
}