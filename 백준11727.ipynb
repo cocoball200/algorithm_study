{
  "nbformat": 4,
  "nbformat_minor": 0,
  "metadata": {
    "colab": {
      "name": "백준11727.ipynb",
      "provenance": [],
      "authorship_tag": "ABX9TyMY87k2mJpe9nNNDxrwFx3M",
      "include_colab_link": true
    },
    "kernelspec": {
      "name": "python3",
      "display_name": "Python 3"
    }
  },
  "cells": [
    {
      "cell_type": "markdown",
      "metadata": {
        "id": "view-in-github",
        "colab_type": "text"
      },
      "source": [
        "<a href=\"https://colab.research.google.com/github/cocoball200/algorithm_study/blob/main/%EB%B0%B1%EC%A4%8011727.ipynb\" target=\"_parent\"><img src=\"https://colab.research.google.com/assets/colab-badge.svg\" alt=\"Open In Colab\"/></a>"
      ]
    },
    {
      "cell_type": "markdown",
      "metadata": {
        "id": "hDyAr_QtahjN"
      },
      "source": [
        "입력\n",
        "첫째 줄에 n이 주어진다. (1 ≤ n ≤ 1,000)\n",
        "\n",
        "출력\n",
        "첫째 줄에 2×n 크기의 직사각형을 채우는 방법의 수를 10,007로 나눈 나머지를 출력한다.\n",
        "\n",
        "예제 입력 1 \n",
        "2\n",
        "예제 출력 1 \n",
        "3\n",
        "예제 입력 2 \n",
        "8\n",
        "예제 출력 2 \n",
        "171\n",
        "예제 입력 3 \n",
        "12\n",
        "예제 출력 3 \n",
        "2731"
      ]
    },
    {
      "cell_type": "markdown",
      "metadata": {
        "id": "cQFEqpBpbRvh"
      },
      "source": [
        "기본개념 "
      ]
    },
    {
      "cell_type": "code",
      "metadata": {
        "colab": {
          "base_uri": "https://localhost:8080/"
        },
        "id": "LkI32yS0aYoB",
        "outputId": "754dc119-71e5-4bed-b0cf-a278ce867e7f"
      },
      "source": [
        "N = int(input())"
      ],
      "execution_count": 16,
      "outputs": [
        {
          "output_type": "stream",
          "text": [
            "8\n"
          ],
          "name": "stdout"
        }
      ]
    },
    {
      "cell_type": "code",
      "metadata": {
        "id": "e_Qy8Vr4anws"
      },
      "source": [
        "dp = [0,1,3]"
      ],
      "execution_count": 17,
      "outputs": []
    },
    {
      "cell_type": "code",
      "metadata": {
        "colab": {
          "base_uri": "https://localhost:8080/"
        },
        "id": "T7uDMLkVas_h",
        "outputId": "71da6b44-3907-4ab2-d672-30156666e290"
      },
      "source": [
        "for i in range(3,N+1):\n",
        "  print(i)\n",
        "  dp.append(dp[i-1]+ (dp[i-2])*2)"
      ],
      "execution_count": 18,
      "outputs": [
        {
          "output_type": "stream",
          "text": [
            "3\n",
            "4\n",
            "5\n",
            "6\n",
            "7\n",
            "8\n"
          ],
          "name": "stdout"
        }
      ]
    },
    {
      "cell_type": "code",
      "metadata": {
        "colab": {
          "base_uri": "https://localhost:8080/"
        },
        "id": "avxXazz-a78d",
        "outputId": "80630211-221d-4c3e-b9e3-18d68a6c4c2f"
      },
      "source": [
        "print(dp[-1])"
      ],
      "execution_count": 19,
      "outputs": [
        {
          "output_type": "stream",
          "text": [
            "171\n"
          ],
          "name": "stdout"
        }
      ]
    },
    {
      "cell_type": "markdown",
      "metadata": {
        "id": "HdoWz5LtbT9w"
      },
      "source": [
        "문제풀이"
      ]
    },
    {
      "cell_type": "code",
      "metadata": {
        "colab": {
          "base_uri": "https://localhost:8080/"
        },
        "id": "lDuYbopnbCbh",
        "outputId": "51f06d26-c6bd-464f-9319-5890b16935c0"
      },
      "source": [
        "print(dp[N] % 10007)"
      ],
      "execution_count": 20,
      "outputs": [
        {
          "output_type": "stream",
          "text": [
            "171\n"
          ],
          "name": "stdout"
        }
      ]
    },
    {
      "cell_type": "code",
      "metadata": {
        "id": "21Hlm5AodWmN"
      },
      "source": [
        ""
      ],
      "execution_count": null,
      "outputs": []
    }
  ]
}