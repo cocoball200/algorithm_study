{
  "nbformat": 4,
  "nbformat_minor": 0,
  "metadata": {
    "colab": {
      "name": "백준11727.ipynb",
      "provenance": [],
      "authorship_tag": "ABX9TyNlawHTwRZgS0cSrL7OY4bT",
      "include_colab_link": true
    },
    "kernelspec": {
      "name": "python3",
      "display_name": "Python 3"
    }
  },
  "cells": [
    {
      "cell_type": "markdown",
      "metadata": {
        "id": "view-in-github",
        "colab_type": "text"
      },
      "source": [
        "<a href=\"https://colab.research.google.com/github/cocoball200/algorithm_study/blob/main/%EB%B0%B1%EC%A4%8011727.ipynb\" target=\"_parent\"><img src=\"https://colab.research.google.com/assets/colab-badge.svg\" alt=\"Open In Colab\"/></a>"
      ]
    },
    {
      "cell_type": "markdown",
      "metadata": {
        "id": "hDyAr_QtahjN"
      },
      "source": [
        "입력\n",
        "첫째 줄에 n이 주어진다. (1 ≤ n ≤ 1,000)\n",
        "\n",
        "출력\n",
        "첫째 줄에 2×n 크기의 직사각형을 채우는 방법의 수를 10,007로 나눈 나머지를 출력한다.\n",
        "\n",
        "예제 입력 1 \n",
        "2\n",
        "예제 출력 1 \n",
        "3\n",
        "예제 입력 2 \n",
        "8\n",
        "예제 출력 2 \n",
        "171\n",
        "예제 입력 3 \n",
        "12\n",
        "예제 출력 3 \n",
        "2731"
      ]
    },
    {
      "cell_type": "markdown",
      "metadata": {
        "id": "cQFEqpBpbRvh"
      },
      "source": [
        "기본개념 "
      ]
    },
    {
      "cell_type": "code",
      "metadata": {
        "colab": {
          "base_uri": "https://localhost:8080/"
        },
        "id": "LkI32yS0aYoB",
        "outputId": "4d44eb60-e087-4c92-bcf3-f4c5be003887"
      },
      "source": [
        "N = int(input())"
      ],
      "execution_count": 9,
      "outputs": [
        {
          "output_type": "stream",
          "text": [
            "5\n"
          ],
          "name": "stdout"
        }
      ]
    },
    {
      "cell_type": "code",
      "metadata": {
        "id": "e_Qy8Vr4anws"
      },
      "source": [
        "dp = [0,1,3]"
      ],
      "execution_count": 10,
      "outputs": []
    },
    {
      "cell_type": "code",
      "metadata": {
        "colab": {
          "base_uri": "https://localhost:8080/"
        },
        "id": "T7uDMLkVas_h",
        "outputId": "d87aa932-f7c7-4685-ba25-571fcdf7b623"
      },
      "source": [
        "for i in range(3,N+1):\n",
        "  print(i)\n",
        "  dp.append(dp[i-1]+ (dp[i-2])*2)"
      ],
      "execution_count": 11,
      "outputs": [
        {
          "output_type": "stream",
          "text": [
            "3\n",
            "4\n",
            "5\n"
          ],
          "name": "stdout"
        }
      ]
    },
    {
      "cell_type": "code",
      "metadata": {
        "colab": {
          "base_uri": "https://localhost:8080/"
        },
        "id": "avxXazz-a78d",
        "outputId": "4c47e5fc-5390-4783-e34f-fd59467a2a37"
      },
      "source": [
        "print(dp[-1])"
      ],
      "execution_count": 5,
      "outputs": [
        {
          "output_type": "stream",
          "text": [
            "5\n"
          ],
          "name": "stdout"
        }
      ]
    },
    {
      "cell_type": "markdown",
      "metadata": {
        "id": "HdoWz5LtbT9w"
      },
      "source": [
        "문제풀이"
      ]
    },
    {
      "cell_type": "code",
      "metadata": {
        "colab": {
          "base_uri": "https://localhost:8080/"
        },
        "id": "lDuYbopnbCbh",
        "outputId": "306cd89f-19ed-4f9e-8ecc-960b3f2b67db"
      },
      "source": [
        "print(dp[N] % 10007)"
      ],
      "execution_count": 7,
      "outputs": [
        {
          "output_type": "stream",
          "text": [
            "5\n"
          ],
          "name": "stdout"
        }
      ]
    }
  ]
}